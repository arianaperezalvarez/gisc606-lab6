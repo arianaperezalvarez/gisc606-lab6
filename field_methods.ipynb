{
 "cells": [
  {
   "cell_type": "code",
   "execution_count": 1,
   "metadata": {},
   "outputs": [
    {
     "name": "stdout",
     "output_type": "stream",
     "text": [
      "Field surveys are valuable work but sound like a lot of work\n",
      "Hmm I wonder if there is a method to consolidate this work 🤔\n"
     ]
    }
   ],
   "source": [
    "print(\"Field surveys are valuable work but sound like a lot of work\")\n",
    "print(\"Hmm I wonder if there is a method to consolidate this work 🤔\")"
   ]
  }
 ],
 "metadata": {
  "kernelspec": {
   "display_name": "Python 3",
   "language": "python",
   "name": "python3"
  },
  "language_info": {
   "codemirror_mode": {
    "name": "ipython",
    "version": 3
   },
   "file_extension": ".py",
   "mimetype": "text/x-python",
   "name": "python",
   "nbconvert_exporter": "python",
   "pygments_lexer": "ipython3",
   "version": "3.10.13"
  }
 },
 "nbformat": 4,
 "nbformat_minor": 2
}
